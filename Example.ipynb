{
 "cells": [
  {
   "cell_type": "code",
   "execution_count": 1,
   "metadata": {
    "ExecuteTime": {
     "end_time": "2017-04-21T09:23:04.123064",
     "start_time": "2017-04-21T09:23:04.104342"
    }
   },
   "outputs": [],
   "source": [
    "import csv\n",
    "from collections import defaultdict"
   ]
  },
  {
   "cell_type": "code",
   "execution_count": 2,
   "metadata": {
    "ExecuteTime": {
     "end_time": "2017-04-21T09:25:18.785622",
     "start_time": "2017-04-21T09:25:18.772261"
    }
   },
   "outputs": [],
   "source": [
    "f = open('data/EXTR_RPSale.csv', 'r')"
   ]
  },
  {
   "cell_type": "code",
   "execution_count": 3,
   "metadata": {
    "ExecuteTime": {
     "end_time": "2017-04-21T09:25:20.093559",
     "start_time": "2017-04-21T09:25:20.081119"
    }
   },
   "outputs": [],
   "source": [
    "reader = csv.reader(f)"
   ]
  },
  {
   "cell_type": "code",
   "execution_count": 4,
   "metadata": {
    "ExecuteTime": {
     "end_time": "2017-04-21T09:25:20.266620",
     "start_time": "2017-04-21T09:25:20.253645"
    }
   },
   "outputs": [
    {
     "data": {
      "text/plain": [
       "['ExciseTaxNbr',\n",
       " 'Major',\n",
       " 'Minor',\n",
       " 'DocumentDate',\n",
       " 'SalePrice',\n",
       " 'RecordingNbr',\n",
       " 'Volume',\n",
       " 'Page',\n",
       " 'PlatNbr',\n",
       " 'PlatType',\n",
       " 'PlatLot',\n",
       " 'PlatBlock',\n",
       " 'SellerName',\n",
       " 'BuyerName',\n",
       " 'PropertyType',\n",
       " 'PrincipalUse',\n",
       " 'SaleInstrument',\n",
       " 'AFForestLand',\n",
       " 'AFCurrentUseLand',\n",
       " 'AFNonProfitUse',\n",
       " 'AFHistoricProperty',\n",
       " 'SaleReason',\n",
       " 'PropertyClass',\n",
       " 'SaleWarning']"
      ]
     },
     "execution_count": 4,
     "metadata": {},
     "output_type": "execute_result"
    }
   ],
   "source": [
    "next(reader)"
   ]
  },
  {
   "cell_type": "code",
   "execution_count": 5,
   "metadata": {
    "ExecuteTime": {
     "end_time": "2017-04-21T09:25:21.007656",
     "start_time": "2017-04-21T09:25:20.994394"
    }
   },
   "outputs": [
    {
     "data": {
      "text/plain": [
       "['2687551',\n",
       " '138860',\n",
       " '0110',\n",
       " '08/21/2014',\n",
       " '245000',\n",
       " '20140828001436',\n",
       " '   ',\n",
       " '   ',\n",
       " '      ',\n",
       " ' ',\n",
       " '              ',\n",
       " '       ',\n",
       " 'WENKLE NOEL SMITH -TRUSTEE                        ',\n",
       " 'ALEXANDER APRIL                                   ',\n",
       " '3',\n",
       " '6',\n",
       " '3',\n",
       " 'N',\n",
       " 'N',\n",
       " 'N',\n",
       " 'N',\n",
       " '1',\n",
       " '8',\n",
       " ' ']"
      ]
     },
     "execution_count": 5,
     "metadata": {},
     "output_type": "execute_result"
    }
   ],
   "source": [
    "next(reader)"
   ]
  },
  {
   "cell_type": "code",
   "execution_count": 6,
   "metadata": {
    "ExecuteTime": {
     "end_time": "2017-04-21T09:25:34.033714",
     "start_time": "2017-04-21T09:25:22.140837"
    }
   },
   "outputs": [],
   "source": [
    "annual_sales = defaultdict(float)\n",
    "for row in reader:\n",
    "    year = int(row[3][-4:])  # Year of DocumentDate\n",
    "    annual_sales[year] += float(row[4])  # Add SalePrice"
   ]
  },
  {
   "cell_type": "code",
   "execution_count": 7,
   "metadata": {
    "ExecuteTime": {
     "end_time": "2017-04-21T09:25:36.050624",
     "start_time": "2017-04-21T09:25:36.037181"
    }
   },
   "outputs": [],
   "source": [
    "f.close()  # Close the file handle that we opened above"
   ]
  },
  {
   "cell_type": "code",
   "execution_count": 8,
   "metadata": {
    "ExecuteTime": {
     "end_time": "2017-04-21T09:25:36.252626",
     "start_time": "2017-04-21T09:25:36.237043"
    }
   },
   "outputs": [
    {
     "data": {
      "text/plain": [
       "defaultdict(float,\n",
       "            {1991: 2765449123.0,\n",
       "             2014: 45438442306.0,\n",
       "             2013: 157113691370.0,\n",
       "             1989: 3310517737.0,\n",
       "             2003: 71678939568.0,\n",
       "             2001: 23846730562.0,\n",
       "             2006: 55402859158.0,\n",
       "             2012: 43691825849.0,\n",
       "             1998: 27410660886.0,\n",
       "             2008: 25107976670.0,\n",
       "             2000: 24362785183.0,\n",
       "             2015: 112403059457.0,\n",
       "             1999: 23005880650.0,\n",
       "             2004: 50732958758.0,\n",
       "             2011: 26403877502.0,\n",
       "             1992: 10720052417.0,\n",
       "             1995: 10241830166.0,\n",
       "             1993: 13680619885.0,\n",
       "             2005: 61061390176.0,\n",
       "             1997: 27333759844.0,\n",
       "             2007: 55506876243.0,\n",
       "             2016: 59295170163.0,\n",
       "             2009: 16769562861.0,\n",
       "             1988: 1781484210.0,\n",
       "             2017: 55902812672.0,\n",
       "             2002: 33598243036.0,\n",
       "             1994: 11823917831.0,\n",
       "             1996: 14690125665.0,\n",
       "             2010: 33584355058.0,\n",
       "             2018: 15379986408.0,\n",
       "             1987: 1266649988.0,\n",
       "             1982: 462031161.0,\n",
       "             1986: 3773565949.0,\n",
       "             1984: 1493951401.0,\n",
       "             1990: 3536930186.0,\n",
       "             1985: 2009760309.0,\n",
       "             1974: 73604.0,\n",
       "             1983: 1152831415.0,\n",
       "             1976: 168055.0,\n",
       "             1966: 95000.0,\n",
       "             1980: 851533.0,\n",
       "             1979: 465140.0,\n",
       "             1975: 311175.0,\n",
       "             1981: 24906843.0,\n",
       "             1978: 1260730.0,\n",
       "             1971: 57150.0,\n",
       "             1977: 223565.0,\n",
       "             1957: 0.0,\n",
       "             1958: 0.0,\n",
       "             1954: 1680.0,\n",
       "             1970: 93500.0,\n",
       "             1972: 137500.0,\n",
       "             1960: 7300.0,\n",
       "             1973: 112160.0,\n",
       "             1967: 65250.0,\n",
       "             1964: 83300.0,\n",
       "             1955: 9500.0,\n",
       "             1968: 63800.0,\n",
       "             1969: 72484.0,\n",
       "             1963: 16500.0,\n",
       "             1962: 28346.0,\n",
       "             2021: 795000.0,\n",
       "             1961: 10815.0,\n",
       "             1965: 67518.0,\n",
       "             1959: 12250.0,\n",
       "             2019: 469740.0,\n",
       "             1934: 125000.0,\n",
       "             1951: 0.0,\n",
       "             1900: 0.0,\n",
       "             1953: 0.0,\n",
       "             1956: 0.0})"
      ]
     },
     "execution_count": 8,
     "metadata": {},
     "output_type": "execute_result"
    }
   ],
   "source": [
    "annual_sales"
   ]
  },
  {
   "cell_type": "code",
   "execution_count": null,
   "metadata": {
    "collapsed": true
   },
   "outputs": [],
   "source": []
  }
 ],
 "metadata": {
  "kernelspec": {
   "display_name": "Python 3",
   "language": "python",
   "name": "python3"
  },
  "language_info": {
   "codemirror_mode": {
    "name": "ipython",
    "version": 3
   },
   "file_extension": ".py",
   "mimetype": "text/x-python",
   "name": "python",
   "nbconvert_exporter": "python",
   "pygments_lexer": "ipython3",
   "version": "3.6.5"
  }
 },
 "nbformat": 4,
 "nbformat_minor": 2
}
